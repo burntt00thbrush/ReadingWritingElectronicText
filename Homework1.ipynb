{
 "cells": [
  {
   "cell_type": "markdown",
   "metadata": {},
   "source": [
    "## A House of Dust TO Things my toothbrush says to me in the morning\n",
    "\n",
    "Original written in Fortran in 1967 by Alison Knowles and James Tenney. [ELMCIP entry](https://elmcip.net/creative-work/house-dust). [More information](http://blog.calarts.edu/2009/09/10/alison-knowles-james-tenney-and-the-house-of-dust-at-calarts/). [Watch Alison Knowles read from this piece](https://www.youtube.com/watch?v=-68Z708lFsY).\n",
    "\n",
    "Assignment 1 for Reading and Writing Electronic Text\n"
   ]
  },
  {
   "cell_type": "code",
   "execution_count": 80,
   "metadata": {
    "collapsed": true
   },
   "outputs": [],
   "source": [
    "import random"
   ]
  },
  {
   "cell_type": "code",
   "execution_count": 71,
   "metadata": {
    "collapsed": true
   },
   "outputs": [],
   "source": [
    "reminders = [\n",
    "    'remind yourself of your reminders',\n",
    "    'decide not to wear a single piece of black clothing',\n",
    "    'step on at least one person\\'s foot in the metro',\n",
    "    'make eye contact with five strangers',\n",
    "    'don\\'t thik of one nostalgic natured thing',\n",
    "    'forget about yesterday',\n",
    "    'listen to brutally heavy metal',\n",
    "    'ignore awkward exchanges',\n",
    "    'augment awkward exchanges',\n",
    "    'make sure the groceries are vegetarian',\n",
    "    'face at least one fear',\n",
    "    'don\\'t flaunt your curves',\n",
    "    'count the number of pieces of skin you tear off your fingers',\n",
    "    'listen to Erik Satie',\n",
    "    'ignore your intuitions',\n",
    "]"
   ]
  },
  {
   "cell_type": "code",
   "execution_count": 72,
   "metadata": {
    "collapsed": true
   },
   "outputs": [],
   "source": [
    "greetings = [\n",
    "    'goodmorning',\n",
    "    'ringadingdingding',\n",
    "    'wake up',\n",
    "    'what\\'s shakin\\'?',\n",
    "    'howzit',\n",
    "    'what\\'s in the bag?',\n",
    "    \n",
    "]"
   ]
  },
  {
   "cell_type": "code",
   "execution_count": 73,
   "metadata": {
    "collapsed": true
   },
   "outputs": [],
   "source": [
    "nature_of_reminders = [\n",
    "    'but do so with conviction',\n",
    "    'and give thanks',\n",
    "    'grinning the whole time',\n",
    "    'severely',\n",
    "    'while whispering the words \\'you are the best \\' to yourself',\n",
    "    'and remember to sigh afterwards',\n",
    "    'as if it were part of a performance piece',\n",
    "    'while winking uncontrollably',\n",
    "    'as you think about eating, moderately',\n",
    "    'genuinely',\n",
    "    'intuitively',\n",
    "    'lacking all kinds of moderation',\n",
    "    'with imposed control'\n",
    "   \n",
    "]"
   ]
  },
  {
   "cell_type": "code",
   "execution_count": 74,
   "metadata": {
    "collapsed": true
   },
   "outputs": [],
   "source": [
    "names = [\n",
    "    'lady',\n",
    "    'you hot piece of ass',\n",
    "    'Isa',\n",
    "    'bruv',\n",
    "    'signorina',\n",
    "    'bella',\n",
    "    'person',\n",
    "    'they',\n",
    "    'body',\n",
    "    'dude',\n",
    "    'man',\n",
    "    'sista',\n",
    "    'pal',\n",
    "    'dieseldyke',\n",
    "    'hasbian',\n",
    "    'femme',\n",
    "    'dreamboat',\n",
    "    \n",
    "]"
   ]
  },
  {
   "cell_type": "code",
   "execution_count": 75,
   "metadata": {},
   "outputs": [],
   "source": [
    "attentions = [\n",
    "    'how many stairs you climb',\n",
    "    'the weather',\n",
    "    'the hands of people with nice hats',\n",
    "    'people\\'s phone screens on the subway',\n",
    "    'the finger prints on windows',\n",
    "    'how many hands you touch on the subway',\n",
    "    'the amount of times someone sneezes in your presence',\n",
    "    'silence'\n",
    "]"
   ]
  },
  {
   "cell_type": "code",
   "execution_count": 82,
   "metadata": {},
   "outputs": [
    {
     "name": "stdout",
     "output_type": "stream",
     "text": [
      "\n",
      "goodmorning hasbian\n",
      "     \n",
      "today:\n",
      "count the number of pieces of skin you tear off your fingers\n",
      "while winking uncontrollably\n",
      "         \n",
      "&  \n",
      "         \n",
      "pay attention to:\n",
      "people's phone screens on the subway\n",
      "with imposed control\n"
     ]
    }
   ],
   "source": [
    "stanza_count = 1\n",
    "for i in range(stanza_count):\n",
    "    print()\n",
    "    print(random.choice(greetings) + \" \" + random.choice(names))\n",
    "    print(\"     \")\n",
    "    print(\"today:\" )\n",
    "    print(random.choice(reminders))\n",
    "    print( random.choice(nature_of_reminders))\n",
    "    print(\"         \")\n",
    "    print(\"&  \")\n",
    "    print(\"         \")\n",
    "    print(\"pay attention to:\" )\n",
    "    print(random.choice(attentions))\n",
    "    print(random.choice(nature_of_reminders))\n",
    "    "
   ]
  },
  {
   "cell_type": "code",
   "execution_count": null,
   "metadata": {
    "collapsed": true
   },
   "outputs": [],
   "source": []
  }
 ],
 "metadata": {
  "kernelspec": {
   "display_name": "Python 3",
   "language": "python",
   "name": "python3"
  },
  "language_info": {
   "codemirror_mode": {
    "name": "ipython",
    "version": 3
   },
   "file_extension": ".py",
   "mimetype": "text/x-python",
   "name": "python",
   "nbconvert_exporter": "python",
   "pygments_lexer": "ipython3",
   "version": "3.6.3"
  }
 },
 "nbformat": 4,
 "nbformat_minor": 2
}
