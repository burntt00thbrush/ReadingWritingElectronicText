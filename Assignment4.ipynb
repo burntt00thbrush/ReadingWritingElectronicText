{
 "cells": [
  {
   "cell_type": "code",
   "execution_count": 44,
   "metadata": {
    "collapsed": true
   },
   "outputs": [],
   "source": [
    "spotters_txt = open(\"Doxy_spotters.txt\").read()"
   ]
  },
  {
   "cell_type": "code",
   "execution_count": 45,
   "metadata": {
    "collapsed": true
   },
   "outputs": [],
   "source": [
    "spotters = spotters_txt.split(',')"
   ]
  },
  {
   "cell_type": "code",
   "execution_count": 46,
   "metadata": {
    "collapsed": true
   },
   "outputs": [],
   "source": [
    "spotters =[s.replace(')', '').replace('(', '') for s in spotters]"
   ]
  },
  {
   "cell_type": "code",
   "execution_count": 47,
   "metadata": {
    "collapsed": true
   },
   "outputs": [],
   "source": [
    "spotters = [s.strip() for s in spotters]"
   ]
  },
  {
   "cell_type": "code",
   "execution_count": 48,
   "metadata": {
    "collapsed": true
   },
   "outputs": [],
   "source": [
    "spotters = [s.split(\" \") for s in spotters]\n"
   ]
  },
  {
   "cell_type": "code",
   "execution_count": 49,
   "metadata": {
    "collapsed": true
   },
   "outputs": [],
   "source": [
    "import json\n"
   ]
  },
  {
   "cell_type": "code",
   "execution_count": 50,
   "metadata": {
    "collapsed": true
   },
   "outputs": [],
   "source": [
    "disease_data = json.loads(open(\"diagnosis.json\").read())"
   ]
  },
  {
   "cell_type": "code",
   "execution_count": 51,
   "metadata": {
    "collapsed": true
   },
   "outputs": [],
   "source": [
    "diseases = []\n",
    "for item in disease_data:\n",
    "      diseases.append(item['desc'])\n"
   ]
  },
  {
   "cell_type": "code",
   "execution_count": 52,
   "metadata": {
    "collapsed": true
   },
   "outputs": [],
   "source": [
    "import random\n",
    "# get random spotter from list\n",
    "# get the name\n",
    "# get the number of spots\n",
    "# import diseases & create function that prints disease starting with username the number of times they \n",
    "# tagged a woman\n",
    "# and eventually try to add spacing and syntax to create interesting composition"
   ]
  },
  {
   "cell_type": "code",
   "execution_count": 53,
   "metadata": {},
   "outputs": [
    {
     "name": "stdout",
     "output_type": "stream",
     "text": [
      "['Wiggs01', '1']\n"
     ]
    }
   ],
   "source": [
    "print(random.choice(spotters))"
   ]
  },
  {
   "cell_type": "code",
   "execution_count": 136,
   "metadata": {},
   "outputs": [
    {
     "name": "stdout",
     "output_type": "stream",
     "text": [
      "['PSYKO', '11']\n"
     ]
    }
   ],
   "source": [
    "random_spotter=random.choice(spotters)\n",
    "name=random_spotter[0]\n",
    "spots=random_spotter[1]\n",
    "print(random_spotter)"
   ]
  },
  {
   "cell_type": "code",
   "execution_count": 55,
   "metadata": {
    "collapsed": true
   },
   "outputs": [],
   "source": [
    "# for each name (randomspotter) see if that string begins with letter x\n",
    "# & extract a string from diseases that starts with same letter \n",
    "# print that string the number of times that the 'number' belonging to that 'name"
   ]
  },
  {
   "cell_type": "code",
   "execution_count": 137,
   "metadata": {
    "collapsed": true
   },
   "outputs": [],
   "source": [
    "letter = name[0].lower()\n",
    "disease_name = ''\n",
    "for disease in diseases:\n",
    "    if disease[0].lower() == letter:\n",
    "        disease_name = disease\n",
    "        break"
   ]
  },
  {
   "cell_type": "code",
   "execution_count": 138,
   "metadata": {},
   "outputs": [
    {
     "name": "stdout",
     "output_type": "stream",
     "text": [
      "PSYKO\n",
      "Paralytic lagophthalmos unspecified eye, unspecified eyelid\n",
      "11\n",
      "name is PSYKO, disease is Paralytic lagophthalmos unspecified eye, unspecified eyelid, 11 tags\n"
     ]
    }
   ],
   "source": [
    "print(name)\n",
    "print(disease_name)\n",
    "print(spots)\n",
    "\n",
    "print(f\"name is {name}, disease is {disease_name}, {spots} tags\")"
   ]
  },
  {
   "cell_type": "code",
   "execution_count": 139,
   "metadata": {},
   "outputs": [
    {
     "name": "stdout",
     "output_type": "stream",
     "text": [
      "PSYKO\n",
      "PSYKO Paralytic lagophthalmos unspecified eye, unspecified eyelid\n",
      "PSYKO Paralytic lagophthalmos unspecified eye, unspecified eyelid\n",
      "PSYKO Paralytic lagophthalmos unspecified eye, unspecified eyelid\n",
      "PSYKO Paralytic lagophthalmos unspecified eye, unspecified eyelid\n",
      "PSYKO Paralytic lagophthalmos unspecified eye, unspecified eyelid\n",
      "PSYKO Paralytic lagophthalmos unspecified eye, unspecified eyelid\n",
      "PSYKO Paralytic lagophthalmos unspecified eye, unspecified eyelid\n",
      "PSYKO Paralytic lagophthalmos unspecified eye, unspecified eyelid\n",
      "PSYKO Paralytic lagophthalmos unspecified eye, unspecified eyelid\n",
      "PSYKO Paralytic lagophthalmos unspecified eye, unspecified eyelid\n",
      "PSYKO Paralytic lagophthalmos unspecified eye, unspecified eyelid\n",
      "PSYKO\n"
     ]
    }
   ],
   "source": [
    "print(f\"{name}\") \n",
    "for i in range(int(spots)):\n",
    "    print(f\"{name}\" + \" \" + f\"{disease}\")\n",
    "print(f\"{name}\")"
   ]
  },
  {
   "cell_type": "code",
   "execution_count": null,
   "metadata": {
    "collapsed": true
   },
   "outputs": [],
   "source": []
  },
  {
   "cell_type": "code",
   "execution_count": 59,
   "metadata": {
    "collapsed": true
   },
   "outputs": [],
   "source": [
    "import tracery"
   ]
  },
  {
   "cell_type": "code",
   "execution_count": 140,
   "metadata": {},
   "outputs": [
    {
     "name": "stdout",
     "output_type": "stream",
     "text": [
      "  PSYKO \t miserably \t Paralytic lagophthalmos unspecified eye, unspecified eyelid PSYKO \n",
      "  PSYKO \t \t \t Paralytic lagophthalmos unspecified eye, unspecified eyelid PSYKO \n",
      "to PSYKO \t \t \t Paralytic lagophthalmos unspecified eye, unspecified eyelid PSYKO \n",
      "for PSYKO \t hourly \t Paralytic lagophthalmos unspecified eye, unspecified eyelid PSYKO \n",
      "  PSYKO \t immediately \t Paralytic lagophthalmos unspecified eye, unspecified eyelid PSYKO \n",
      "  PSYKO \t miserably \t Paralytic lagophthalmos unspecified eye, unspecified eyelid PSYKO \n",
      "for PSYKO \t miserably \t Paralytic lagophthalmos unspecified eye, unspecified eyelid PSYKO \n",
      "to PSYKO \t \t \t Paralytic lagophthalmos unspecified eye, unspecified eyelid PSYKO \n",
      "  PSYKO \t immediately \t Paralytic lagophthalmos unspecified eye, unspecified eyelid PSYKO \n",
      "  PSYKO \t  \t Paralytic lagophthalmos unspecified eye, unspecified eyelid PSYKO \n",
      "  PSYKO \t fervently \t Paralytic lagophthalmos unspecified eye, unspecified eyelid PSYKO \n"
     ]
    }
   ],
   "source": [
    "rules = {\n",
    "    \"origin\": \"#append# #name# \\t #adverbs# \\t #disease# #name# \",\n",
    "    \"name\" : f\"{name}\",\n",
    "    \"disease\": f\"{disease}\",\n",
    "    \"adverbs\":[\"immediately\", \"hourly\", \"miserably\", \"rigidly\",\"fervently\", \"\", \"\\t\"],\n",
    "    \"append\": [\"to\", \"for\", \" \"],\n",
    "}\n",
    "grammar = tracery.Grammar(rules)\n",
    "for i in range(int(spots)):\n",
    "    print(grammar.flatten(\"#origin#\"))\n",
    "\n"
   ]
  },
  {
   "cell_type": "code",
   "execution_count": 62,
   "metadata": {},
   "outputs": [
    {
     "data": {
      "text/plain": [
       "list"
      ]
     },
     "execution_count": 62,
     "metadata": {},
     "output_type": "execute_result"
    }
   ],
   "source": [
    "type(Adverbs)"
   ]
  },
  {
   "cell_type": "code",
   "execution_count": 63,
   "metadata": {},
   "outputs": [],
   "source": [
    "letter = name[0].lower()\n",
    "adverbs_starting_with_x = ''\n",
    "for adverb in adverbs:\n",
    "    if adverb[0].lower() == letter:\n",
    "        adverbs_starting_with_x = adverb\n",
    "        break\n"
   ]
  },
  {
   "cell_type": "code",
   "execution_count": null,
   "metadata": {
    "collapsed": true
   },
   "outputs": [],
   "source": []
  },
  {
   "cell_type": "code",
   "execution_count": null,
   "metadata": {
    "collapsed": true
   },
   "outputs": [],
   "source": []
  },
  {
   "cell_type": "code",
   "execution_count": null,
   "metadata": {
    "collapsed": true
   },
   "outputs": [],
   "source": []
  },
  {
   "cell_type": "code",
   "execution_count": null,
   "metadata": {
    "collapsed": true
   },
   "outputs": [],
   "source": []
  },
  {
   "cell_type": "code",
   "execution_count": null,
   "metadata": {
    "collapsed": true
   },
   "outputs": [],
   "source": []
  },
  {
   "cell_type": "code",
   "execution_count": null,
   "metadata": {
    "collapsed": true
   },
   "outputs": [],
   "source": []
  },
  {
   "cell_type": "code",
   "execution_count": null,
   "metadata": {
    "collapsed": true
   },
   "outputs": [],
   "source": []
  },
  {
   "cell_type": "code",
   "execution_count": null,
   "metadata": {
    "collapsed": true
   },
   "outputs": [],
   "source": []
  }
 ],
 "metadata": {
  "kernelspec": {
   "display_name": "Python 3",
   "language": "python",
   "name": "python3"
  },
  "language_info": {
   "codemirror_mode": {
    "name": "ipython",
    "version": 3
   },
   "file_extension": ".py",
   "mimetype": "text/x-python",
   "name": "python",
   "nbconvert_exporter": "python",
   "pygments_lexer": "ipython3",
   "version": "3.6.3"
  }
 },
 "nbformat": 4,
 "nbformat_minor": 2
}
